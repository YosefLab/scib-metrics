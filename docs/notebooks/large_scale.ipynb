{
 "cells": [
  {
   "attachments": {},
   "cell_type": "markdown",
   "metadata": {},
   "source": [
    "# Benchmarking large-scale integration"
   ]
  },
  {
   "attachments": {},
   "cell_type": "markdown",
   "metadata": {},
   "source": [
    "Here we walkthrough applying the integration benchmarking metrics on a dataset of non-small cell lung cancer from the following paper:\n",
    "\n",
    "Salcher, S., Sturm, G., Horvath, L., Untergasser, G., Kuempers, C., Fotakis, G., ... & Trajanoski, Z. (2022). High-resolution single-cell atlas reveals diversity and plasticity of tissue-resident neutrophils in non-small cell lung cancer. Cancer Cell.\n",
    "\n",
    "This dataset contains ~900,000 cells, so here we demonstrate the scalbility of the metrics here on large data."
   ]
  },
  {
   "cell_type": "code",
   "execution_count": null,
   "metadata": {},
   "outputs": [],
   "source": [
    "import numpy as np\n",
    "import scanpy as sc\n",
    "from scvi.data import cellxgene\n",
    "\n",
    "from scib_metrics.benchmark import Benchmarker, BioConservation\n",
    "\n",
    "%matplotlib inline"
   ]
  },
  {
   "attachments": {},
   "cell_type": "markdown",
   "metadata": {},
   "source": [
    "## Load and preprocess data"
   ]
  },
  {
   "cell_type": "code",
   "execution_count": null,
   "metadata": {},
   "outputs": [],
   "source": [
    "url = \"https://cellxgene.cziscience.com/e/232f6a5a-a04c-4758-a6e8-88ab2e3a6e69.cxg/\"\n",
    "adata = cellxgene(url, filename=\"luca.h5ad\", save_path=\"data/\")"
   ]
  },
  {
   "cell_type": "code",
   "execution_count": null,
   "metadata": {
    "tags": [
     "keep_output"
    ]
   },
   "outputs": [],
   "source": [
    "adata"
   ]
  },
  {
   "cell_type": "code",
   "execution_count": null,
   "metadata": {
    "tags": [
     "keep_output"
    ]
   },
   "outputs": [],
   "source": [
    "# Number of unique cell types\n",
    "adata.obs[\"cell_type\"].nunique()"
   ]
  },
  {
   "cell_type": "code",
   "execution_count": null,
   "metadata": {},
   "outputs": [],
   "source": [
    "adata.var[\"highly_variable\"] = np.asarray(adata.var[\"is_highly_variable\"].astype(bool))\n",
    "sc.tl.pca(adata)"
   ]
  },
  {
   "attachments": {},
   "cell_type": "markdown",
   "metadata": {},
   "source": [
    "## \"Run\" methods"
   ]
  },
  {
   "attachments": {},
   "cell_type": "markdown",
   "metadata": {},
   "source": [
    "The authors used scVI and scANVI in their manuscript, and these embeddings are already stored in the AnnData object. We can use these to run the metrics."
   ]
  },
  {
   "attachments": {},
   "cell_type": "markdown",
   "metadata": {},
   "source": [
    "### scVI"
   ]
  },
  {
   "cell_type": "code",
   "execution_count": null,
   "metadata": {},
   "outputs": [],
   "source": [
    "adata.obsm[\"scVI\"] = adata.obsm[\"X_scVI\"]"
   ]
  },
  {
   "attachments": {},
   "cell_type": "markdown",
   "metadata": {},
   "source": [
    "### scANVI"
   ]
  },
  {
   "cell_type": "code",
   "execution_count": null,
   "metadata": {},
   "outputs": [],
   "source": [
    "adata.obsm[\"scANVI\"] = adata.obsm[\"X_scANVI\"]"
   ]
  },
  {
   "attachments": {},
   "cell_type": "markdown",
   "metadata": {},
   "source": [
    "## Perform the benchmark"
   ]
  },
  {
   "attachments": {},
   "cell_type": "markdown",
   "metadata": {},
   "source": [
    "Here we use a custom nearest neighbor function to speed up the computation of the metrics. This is not necessary, but can be useful for large datasets.\n",
    "\n",
    "In particular we use [faiss](https://github.com/facebookresearch/faiss), which can be accelerated with a GPU.\n",
    "\n",
    "This can be installed as\n",
    "\n",
    "```bash\n",
    "conda install -c conda-forge faiss-gpu\n",
    "```\n",
    "\n",
    "When using approximate nearest neighbors, an issue can arise where each cell does not get a unique set of K neighbors. This issue happens with faiss hnsw below, so we use the brute force method instead, which is still faster than pynndescent approximate nearest neighbors on CPU."
   ]
  },
  {
   "cell_type": "code",
   "execution_count": null,
   "metadata": {},
   "outputs": [],
   "source": [
    "import faiss\n",
    "\n",
    "from scib_metrics.nearest_neighbors import NeighborsResults\n",
    "\n",
    "\n",
    "def faiss_hnsw_nn(X: np.ndarray, k: int):\n",
    "    \"\"\"Gpu HNSW nearest neighbor search using faiss.\n",
    "\n",
    "    See https://github.com/nmslib/hnswlib/blob/master/ALGO_PARAMS.md\n",
    "    for index param details.\n",
    "    \"\"\"\n",
    "    X = np.ascontiguousarray(X, dtype=np.float32)\n",
    "    res = faiss.StandardGpuResources()\n",
    "    M = 32\n",
    "    index = faiss.IndexHNSWFlat(X.shape[1], M, faiss.METRIC_L2)\n",
    "    gpu_index = faiss.index_cpu_to_gpu(res, 0, index)\n",
    "    gpu_index.add(X)\n",
    "    distances, indices = gpu_index.search(X, k)\n",
    "    del index\n",
    "    del gpu_index\n",
    "    # distances are squared\n",
    "    return NeighborsResults(indices=indices, distances=np.sqrt(distances))\n",
    "\n",
    "\n",
    "def faiss_brute_force_nn(X: np.ndarray, k: int):\n",
    "    \"\"\"Gpu brute force nearest neighbor search using faiss.\"\"\"\n",
    "    X = np.ascontiguousarray(X, dtype=np.float32)\n",
    "    res = faiss.StandardGpuResources()\n",
    "    index = faiss.IndexFlatL2(X.shape[1])\n",
    "    gpu_index = faiss.index_cpu_to_gpu(res, 0, index)\n",
    "    gpu_index.add(X)\n",
    "    distances, indices = gpu_index.search(X, k)\n",
    "    del index\n",
    "    del gpu_index\n",
    "    # distances are squared\n",
    "    return NeighborsResults(indices=indices, distances=np.sqrt(distances))"
   ]
  },
  {
   "cell_type": "code",
   "execution_count": null,
   "metadata": {
    "tags": [
     "keep_output"
    ]
   },
   "outputs": [],
   "source": [
    "import time\n",
    "\n",
    "adata.obsm[\"Unintegrated\"] = adata.obsm[\"X_pca\"]\n",
    "\n",
    "biocons = BioConservation(isolated_labels=False)\n",
    "\n",
    "start = time.time()\n",
    "bm = Benchmarker(\n",
    "    adata,\n",
    "    batch_key=\"sample\",\n",
    "    label_key=\"cell_type\",\n",
    "    embedding_obsm_keys=[\"Unintegrated\", \"scANVI\", \"scVI\"],\n",
    "    pre_integrated_embedding_obsm_key=\"X_pca\",\n",
    "    bio_conservation_metrics=biocons,\n",
    "    n_jobs=-1,\n",
    ")\n",
    "bm.prepare(neighbor_computer=faiss_brute_force_nn)\n",
    "bm.benchmark()\n",
    "end = time.time()\n",
    "print(f\"Time: {int((end - start) / 60)} min {int((end - start) % 60)} sec\")"
   ]
  },
  {
   "attachments": {},
   "cell_type": "markdown",
   "metadata": {},
   "source": [
    "### Visualize the results"
   ]
  },
  {
   "cell_type": "code",
   "execution_count": null,
   "metadata": {
    "tags": [
     "keep_output"
    ]
   },
   "outputs": [],
   "source": [
    "bm.plot_results_table()"
   ]
  },
  {
   "cell_type": "code",
   "execution_count": null,
   "metadata": {
    "tags": [
     "keep_output"
    ]
   },
   "outputs": [],
   "source": [
    "bm.plot_results_table(min_max_scale=False)"
   ]
  },
  {
   "attachments": {},
   "cell_type": "markdown",
   "metadata": {},
   "source": [
    "We can also access the underlying dataframes to print the results ourselves."
   ]
  },
  {
   "cell_type": "code",
   "execution_count": null,
   "metadata": {
    "tags": [
     "keep_output"
    ]
   },
   "outputs": [],
   "source": [
    "from rich import print\n",
    "\n",
    "df = bm.get_results(min_max_scale=False)\n",
    "print(df)"
   ]
  }
 ],
 "metadata": {
  "kernelspec": {
   "display_name": "scib-metrics",
   "language": "python",
   "name": "python3"
  },
  "language_info": {
   "codemirror_mode": {
    "name": "ipython",
    "version": 3
   },
   "file_extension": ".py",
   "mimetype": "text/x-python",
   "name": "python",
   "nbconvert_exporter": "python",
   "pygments_lexer": "ipython3",
   "version": "3.10.13"
  },
  "vscode": {
   "interpreter": {
    "hash": "a039041fbbc3e5d1b9a7b0ef55a3584523fcf26d826fdb9093db3636ab3124e1"
   }
  }
 },
 "nbformat": 4,
 "nbformat_minor": 4
}
